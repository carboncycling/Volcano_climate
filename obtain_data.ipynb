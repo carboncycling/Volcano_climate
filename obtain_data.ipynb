{
 "cells": [
  {
   "cell_type": "code",
   "execution_count": null,
   "metadata": {},
   "outputs": [],
   "source": [
    "import calendar"
   ]
  },
  {
   "cell_type": "code",
   "execution_count": null,
   "metadata": {},
   "outputs": [],
   "source": [
    "d = \"https://portal.nccs.nasa.gov/datashare/gmao/geos-fp/das/Y2016/M01/D01/GEOS.fp.asm.inst1_2d_lfo_Nx.20160101_1400.V01.nc4\"\n",
    "years = [2016, 2017, 2018, 2019, 2020]\n",
    "months = [7]\n",
    "for y in years:\n",
    "    for m in months:\n",
    "        monthRange = calendar.monthrange(y,m)\n",
    "        for d in range(monthRange[1]):\n",
    "            print(f\"https://portal.nccs.nasa.gov/datashare/gmao/geos-fp/das/Y{str(y)}/M{str(m).zfill(2)}/D{str(d+1).zfill(2)}/GEOS.fp.asm.inst1_2d_lfo_Nx.{str(y)}{str(m).zfill(2)}{str(d+1).zfill(2)}_1400.V01.nc4\")"
   ]
  }
 ],
 "metadata": {
  "kernelspec": {
   "display_name": "Python 3",
   "language": "python",
   "name": "python3"
  },
  "language_info": {
   "codemirror_mode": {
    "name": "ipython",
    "version": 3
   },
   "file_extension": ".py",
   "mimetype": "text/x-python",
   "name": "python",
   "nbconvert_exporter": "python",
   "pygments_lexer": "ipython3",
   "version": "3.10.12"
  },
  "orig_nbformat": 4
 },
 "nbformat": 4,
 "nbformat_minor": 2
}
